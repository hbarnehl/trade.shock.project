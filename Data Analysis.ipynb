{
 "cells": [
  {
   "cell_type": "markdown",
   "metadata": {},
   "source": [
    "# Data Analysis"
   ]
  },
  {
   "cell_type": "code",
   "execution_count": 38,
   "metadata": {},
   "outputs": [],
   "source": [
    "import pandas as pd\n",
    "import re\n",
    "from glob import glob\n",
    "import numpy as np\n",
    "import os\n",
    "import statsmodels as sm\n",
    "import statsmodels.formula.api as smf\n",
    "from matplotlib import pyplot as plt"
   ]
  },
  {
   "cell_type": "code",
   "execution_count": 2,
   "metadata": {},
   "outputs": [],
   "source": [
    "dfg = pd.read_csv('dataset_gemeente.csv')"
   ]
  },
  {
   "cell_type": "markdown",
   "metadata": {},
   "source": [
    "## Data Exploration"
   ]
  },
  {
   "cell_type": "markdown",
   "metadata": {},
   "source": [
    "### Migration"
   ]
  },
  {
   "cell_type": "markdown",
   "metadata": {},
   "source": [
    "Migration Population"
   ]
  },
  {
   "cell_type": "code",
   "execution_count": 8,
   "metadata": {
    "scrolled": true
   },
   "outputs": [
    {
     "data": {
      "text/html": [
       "<div>\n",
       "<style scoped>\n",
       "    .dataframe tbody tr th:only-of-type {\n",
       "        vertical-align: middle;\n",
       "    }\n",
       "\n",
       "    .dataframe tbody tr th {\n",
       "        vertical-align: top;\n",
       "    }\n",
       "\n",
       "    .dataframe thead th {\n",
       "        text-align: right;\n",
       "    }\n",
       "</style>\n",
       "<table border=\"1\" class=\"dataframe\">\n",
       "  <thead>\n",
       "    <tr style=\"text-align: right;\">\n",
       "      <th></th>\n",
       "      <th>count</th>\n",
       "      <th>mean</th>\n",
       "      <th>std</th>\n",
       "      <th>min</th>\n",
       "      <th>25%</th>\n",
       "      <th>50%</th>\n",
       "      <th>75%</th>\n",
       "      <th>max</th>\n",
       "    </tr>\n",
       "    <tr>\n",
       "      <th>RegioS</th>\n",
       "      <th></th>\n",
       "      <th></th>\n",
       "      <th></th>\n",
       "      <th></th>\n",
       "      <th></th>\n",
       "      <th></th>\n",
       "      <th></th>\n",
       "      <th></th>\n",
       "    </tr>\n",
       "  </thead>\n",
       "  <tbody>\n",
       "    <tr>\n",
       "      <th>Urk</th>\n",
       "      <td>10.0</td>\n",
       "      <td>1.561006</td>\n",
       "      <td>0.237247</td>\n",
       "      <td>1.299836</td>\n",
       "      <td>1.419616</td>\n",
       "      <td>1.489000</td>\n",
       "      <td>1.610548</td>\n",
       "      <td>2.045630</td>\n",
       "    </tr>\n",
       "    <tr>\n",
       "      <th>Tubbergen</th>\n",
       "      <td>10.0</td>\n",
       "      <td>1.615067</td>\n",
       "      <td>0.145669</td>\n",
       "      <td>1.450028</td>\n",
       "      <td>1.525894</td>\n",
       "      <td>1.553817</td>\n",
       "      <td>1.741290</td>\n",
       "      <td>1.847152</td>\n",
       "    </tr>\n",
       "    <tr>\n",
       "      <th>Grootegast</th>\n",
       "      <td>9.0</td>\n",
       "      <td>1.689846</td>\n",
       "      <td>0.240411</td>\n",
       "      <td>1.243720</td>\n",
       "      <td>1.658005</td>\n",
       "      <td>1.678208</td>\n",
       "      <td>1.727684</td>\n",
       "      <td>2.124681</td>\n",
       "    </tr>\n",
       "    <tr>\n",
       "      <th>Littenseradiel</th>\n",
       "      <td>8.0</td>\n",
       "      <td>1.703250</td>\n",
       "      <td>0.172298</td>\n",
       "      <td>1.563921</td>\n",
       "      <td>1.629215</td>\n",
       "      <td>1.641290</td>\n",
       "      <td>1.690907</td>\n",
       "      <td>2.103108</td>\n",
       "    </tr>\n",
       "    <tr>\n",
       "      <th>Achtkarspelen</th>\n",
       "      <td>10.0</td>\n",
       "      <td>1.738916</td>\n",
       "      <td>0.336491</td>\n",
       "      <td>1.324409</td>\n",
       "      <td>1.485978</td>\n",
       "      <td>1.642906</td>\n",
       "      <td>2.031702</td>\n",
       "      <td>2.272727</td>\n",
       "    </tr>\n",
       "    <tr>\n",
       "      <th>...</th>\n",
       "      <td>...</td>\n",
       "      <td>...</td>\n",
       "      <td>...</td>\n",
       "      <td>...</td>\n",
       "      <td>...</td>\n",
       "      <td>...</td>\n",
       "      <td>...</td>\n",
       "      <td>...</td>\n",
       "    </tr>\n",
       "    <tr>\n",
       "      <th>Amstelveen</th>\n",
       "      <td>10.0</td>\n",
       "      <td>23.540129</td>\n",
       "      <td>2.710376</td>\n",
       "      <td>20.491976</td>\n",
       "      <td>21.487868</td>\n",
       "      <td>22.658542</td>\n",
       "      <td>25.353788</td>\n",
       "      <td>28.319646</td>\n",
       "    </tr>\n",
       "    <tr>\n",
       "      <th>Rotterdam</th>\n",
       "      <td>10.0</td>\n",
       "      <td>27.391499</td>\n",
       "      <td>0.571232</td>\n",
       "      <td>26.795339</td>\n",
       "      <td>27.047210</td>\n",
       "      <td>27.152371</td>\n",
       "      <td>27.664194</td>\n",
       "      <td>28.577855</td>\n",
       "    </tr>\n",
       "    <tr>\n",
       "      <th>Amsterdam</th>\n",
       "      <td>10.0</td>\n",
       "      <td>29.392742</td>\n",
       "      <td>1.293577</td>\n",
       "      <td>28.438206</td>\n",
       "      <td>28.554474</td>\n",
       "      <td>28.691258</td>\n",
       "      <td>29.882064</td>\n",
       "      <td>32.148581</td>\n",
       "    </tr>\n",
       "    <tr>\n",
       "      <th>'s-Gravenhage (gemeente)</th>\n",
       "      <td>10.0</td>\n",
       "      <td>30.316265</td>\n",
       "      <td>1.370091</td>\n",
       "      <td>28.559645</td>\n",
       "      <td>29.431486</td>\n",
       "      <td>29.956491</td>\n",
       "      <td>31.131830</td>\n",
       "      <td>32.757938</td>\n",
       "    </tr>\n",
       "    <tr>\n",
       "      <th>Vaals</th>\n",
       "      <td>10.0</td>\n",
       "      <td>34.114203</td>\n",
       "      <td>1.960423</td>\n",
       "      <td>32.536670</td>\n",
       "      <td>32.750221</td>\n",
       "      <td>33.177977</td>\n",
       "      <td>34.926322</td>\n",
       "      <td>38.208482</td>\n",
       "    </tr>\n",
       "  </tbody>\n",
       "</table>\n",
       "<p>307 rows × 8 columns</p>\n",
       "</div>"
      ],
      "text/plain": [
       "                          count       mean       std        min        25%  \\\n",
       "RegioS                                                                       \n",
       "Urk                        10.0   1.561006  0.237247   1.299836   1.419616   \n",
       "Tubbergen                  10.0   1.615067  0.145669   1.450028   1.525894   \n",
       "Grootegast                  9.0   1.689846  0.240411   1.243720   1.658005   \n",
       "Littenseradiel              8.0   1.703250  0.172298   1.563921   1.629215   \n",
       "Achtkarspelen              10.0   1.738916  0.336491   1.324409   1.485978   \n",
       "...                         ...        ...       ...        ...        ...   \n",
       "Amstelveen                 10.0  23.540129  2.710376  20.491976  21.487868   \n",
       "Rotterdam                  10.0  27.391499  0.571232  26.795339  27.047210   \n",
       "Amsterdam                  10.0  29.392742  1.293577  28.438206  28.554474   \n",
       "'s-Gravenhage (gemeente)   10.0  30.316265  1.370091  28.559645  29.431486   \n",
       "Vaals                      10.0  34.114203  1.960423  32.536670  32.750221   \n",
       "\n",
       "                                50%        75%        max  \n",
       "RegioS                                                     \n",
       "Urk                        1.489000   1.610548   2.045630  \n",
       "Tubbergen                  1.553817   1.741290   1.847152  \n",
       "Grootegast                 1.678208   1.727684   2.124681  \n",
       "Littenseradiel             1.641290   1.690907   2.103108  \n",
       "Achtkarspelen              1.642906   2.031702   2.272727  \n",
       "...                             ...        ...        ...  \n",
       "Amstelveen                22.658542  25.353788  28.319646  \n",
       "Rotterdam                 27.152371  27.664194  28.577855  \n",
       "Amsterdam                 28.691258  29.882064  32.148581  \n",
       "'s-Gravenhage (gemeente)  29.956491  31.131830  32.757938  \n",
       "Vaals                     33.177977  34.926322  38.208482  \n",
       "\n",
       "[307 rows x 8 columns]"
      ]
     },
     "execution_count": 8,
     "metadata": {},
     "output_type": "execute_result"
    }
   ],
   "source": [
    "des = dfg.groupby('RegioS')['migration_pop_all_total'].describe()\n",
    "des.sort_values.plot(y='mean')"
   ]
  },
  {
   "cell_type": "code",
   "execution_count": 18,
   "metadata": {},
   "outputs": [
    {
     "data": {
      "text/plain": [
       "<AxesSubplot:ylabel='Frequency'>"
      ]
     },
     "execution_count": 18,
     "metadata": {},
     "output_type": "execute_result"
    },
    {
     "data": {
      "image/png": "[encoded data removed]",
      "text/plain": [
       "<Figure size 540x324 with 1 Axes>"
      ]
     },
     "metadata": {
      "needs_background": "light"
     },
     "output_type": "display_data"
    }
   ],
   "source": [
    "des.plot(y='mean', kind='hist', bins=(15), figsize=(7.5,4.5))\n",
    "\n",
    "# most gemeentes have a migrant population of 5 to 10 percent"
   ]
  },
  {
   "cell_type": "markdown",
   "metadata": {},
   "source": [
    "Migration Change"
   ]
  },
  {
   "cell_type": "code",
   "execution_count": 26,
   "metadata": {},
   "outputs": [
    {
     "data": {
      "text/plain": [
       "<AxesSubplot:ylabel='Frequency'>"
      ]
     },
     "execution_count": 26,
     "metadata": {},
     "output_type": "execute_result"
    },
    {
     "data": {
      "image/png": "[encoded data removed]",
      "text/plain": [
       "<Figure size 540x324 with 1 Axes>"
      ]
     },
     "metadata": {
      "needs_background": "light"
     },
     "output_type": "display_data"
    }
   ],
   "source": [
    "des = dfg.groupby('RegioS')['migration_change_all'].describe()\n",
    "des.plot(y='mean', kind='hist', bins=(30), xlim = (0,2), figsize=(7.5,4.5))\n",
    "\n",
    "# Most gemeentes experience a growth of their migrant population of 0 to 0.5 per 100 gemeente population per year"
   ]
  },
  {
   "cell_type": "markdown",
   "metadata": {},
   "source": [
    "### Import Shock"
   ]
  },
  {
   "cell_type": "markdown",
   "metadata": {},
   "source": [
    "Manufacturing Employment"
   ]
  },
  {
   "cell_type": "code",
   "execution_count": 28,
   "metadata": {},
   "outputs": [
    {
     "data": {
      "text/plain": [
       "<AxesSubplot:ylabel='Frequency'>"
      ]
     },
     "execution_count": 28,
     "metadata": {},
     "output_type": "execute_result"
    },
    {
     "data": {
      "image/png": "[encoded data removed]",
      "text/plain": [
       "<Figure size 540x324 with 1 Axes>"
      ]
     },
     "metadata": {
      "needs_background": "light"
     },
     "output_type": "display_data"
    }
   ],
   "source": [
    "des = dfg.groupby('RegioS')['manufacturing_weight'].describe()\n",
    "des.plot(y='mean', kind='hist', bins=(10), figsize=(7.5,4.5))"
   ]
  },
  {
   "cell_type": "markdown",
   "metadata": {},
   "source": [
    "Import Shock"
   ]
  },
  {
   "cell_type": "code",
   "execution_count": 27,
   "metadata": {
    "scrolled": false
   },
   "outputs": [
    {
     "data": {
      "text/plain": [
       "<AxesSubplot:ylabel='Frequency'>"
      ]
     },
     "execution_count": 27,
     "metadata": {},
     "output_type": "execute_result"
    },
    {
     "data": {
      "image/png": "[encoded data removed]",
      "text/plain": [
       "<Figure size 540x324 with 1 Axes>"
      ]
     },
     "metadata": {
      "needs_background": "light"
     },
     "output_type": "display_data"
    }
   ],
   "source": [
    "des = dfg.groupby('RegioS')['import_shock_2yr'].describe()\n",
    "des.plot(y='mean', kind='hist', bins=(10), figsize=(7.5,4.5))"
   ]
  },
  {
   "cell_type": "markdown",
   "metadata": {},
   "source": [
    "## Regression Analyses"
   ]
  },
  {
   "cell_type": "code",
   "execution_count": null,
   "metadata": {},
   "outputs": [],
   "source": [
    "# Check out link for looping over OLS: https://stackoverflow.com/questions/52539749/python-loop-a-variable-for-a-simple-ols\n",
    "# Look for multilevel regression, data nested within gemeentes\n",
    "# Also store results in dict\n",
    "# Also print results in folder per group of independent variables\n",
    "# To loop over linear mixed effects I probably need to use something like f\"{coly} ~ {colx}\" together with list of columns of interest\n"
   ]
  },
  {
   "cell_type": "code",
   "execution_count": 58,
   "metadata": {},
   "outputs": [],
   "source": [
    "formula = 'income_median_men ~ import_shock_2yr\""
   ]
  },
  {
   "cell_type": "code",
   "execution_count": 64,
   "metadata": {},
   "outputs": [
    {
     "ename": "PatsyError",
     "evalue": "model is missing required outcome variables",
     "output_type": "error",
     "traceback": [
      "\u001b[0;31m---------------------------------------------------------------------------\u001b[0m",
      "\u001b[0;31mPatsyError\u001b[0m                                Traceback (most recent call last)",
      "\u001b[0;32m<ipython-input-64-6575aab37c7a>\u001b[0m in \u001b[0;36m<module>\u001b[0;34m\u001b[0m\n\u001b[0;32m----> 1\u001b[0;31m \u001b[0mmodel\u001b[0m \u001b[0;34m=\u001b[0m \u001b[0msmf\u001b[0m\u001b[0;34m.\u001b[0m\u001b[0mols\u001b[0m\u001b[0;34m(\u001b[0m\u001b[0my\u001b[0m\u001b[0;34m,\u001b[0m \u001b[0mX\u001b[0m\u001b[0;34m)\u001b[0m\u001b[0;34m\u001b[0m\u001b[0;34m\u001b[0m\u001b[0m\n\u001b[0m",
      "\u001b[0;32m~/.local/lib/python3.8/site-packages/statsmodels/base/model.py\u001b[0m in \u001b[0;36mfrom_formula\u001b[0;34m(cls, formula, data, subset, drop_cols, *args, **kwargs)\u001b[0m\n\u001b[1;32m    167\u001b[0m             \u001b[0mmissing\u001b[0m \u001b[0;34m=\u001b[0m \u001b[0;34m'raise'\u001b[0m\u001b[0;34m\u001b[0m\u001b[0;34m\u001b[0m\u001b[0m\n\u001b[1;32m    168\u001b[0m \u001b[0;34m\u001b[0m\u001b[0m\n\u001b[0;32m--> 169\u001b[0;31m         tmp = handle_formula_data(data, None, formula, depth=eval_env,\n\u001b[0m\u001b[1;32m    170\u001b[0m                                   missing=missing)\n\u001b[1;32m    171\u001b[0m         \u001b[0;34m(\u001b[0m\u001b[0;34m(\u001b[0m\u001b[0mendog\u001b[0m\u001b[0;34m,\u001b[0m \u001b[0mexog\u001b[0m\u001b[0;34m)\u001b[0m\u001b[0;34m,\u001b[0m \u001b[0mmissing_idx\u001b[0m\u001b[0;34m,\u001b[0m \u001b[0mdesign_info\u001b[0m\u001b[0;34m)\u001b[0m \u001b[0;34m=\u001b[0m \u001b[0mtmp\u001b[0m\u001b[0;34m\u001b[0m\u001b[0;34m\u001b[0m\u001b[0m\n",
      "\u001b[0;32m~/.local/lib/python3.8/site-packages/statsmodels/formula/formulatools.py\u001b[0m in \u001b[0;36mhandle_formula_data\u001b[0;34m(Y, X, formula, depth, missing)\u001b[0m\n\u001b[1;32m     61\u001b[0m     \u001b[0;32melse\u001b[0m\u001b[0;34m:\u001b[0m\u001b[0;34m\u001b[0m\u001b[0;34m\u001b[0m\u001b[0m\n\u001b[1;32m     62\u001b[0m         \u001b[0;32mif\u001b[0m \u001b[0mdata_util\u001b[0m\u001b[0;34m.\u001b[0m\u001b[0m_is_using_pandas\u001b[0m\u001b[0;34m(\u001b[0m\u001b[0mY\u001b[0m\u001b[0;34m,\u001b[0m \u001b[0;32mNone\u001b[0m\u001b[0;34m)\u001b[0m\u001b[0;34m:\u001b[0m\u001b[0;34m\u001b[0m\u001b[0;34m\u001b[0m\u001b[0m\n\u001b[0;32m---> 63\u001b[0;31m             result = dmatrices(formula, Y, depth, return_type='dataframe',\n\u001b[0m\u001b[1;32m     64\u001b[0m                                NA_action=na_action)\n\u001b[1;32m     65\u001b[0m         \u001b[0;32melse\u001b[0m\u001b[0;34m:\u001b[0m\u001b[0;34m\u001b[0m\u001b[0;34m\u001b[0m\u001b[0m\n",
      "\u001b[0;32m~/.local/lib/python3.8/site-packages/patsy/highlevel.py\u001b[0m in \u001b[0;36mdmatrices\u001b[0;34m(formula_like, data, eval_env, NA_action, return_type)\u001b[0m\n\u001b[1;32m    310\u001b[0m                                       NA_action, return_type)\n\u001b[1;32m    311\u001b[0m     \u001b[0;32mif\u001b[0m \u001b[0mlhs\u001b[0m\u001b[0;34m.\u001b[0m\u001b[0mshape\u001b[0m\u001b[0;34m[\u001b[0m\u001b[0;36m1\u001b[0m\u001b[0;34m]\u001b[0m \u001b[0;34m==\u001b[0m \u001b[0;36m0\u001b[0m\u001b[0;34m:\u001b[0m\u001b[0;34m\u001b[0m\u001b[0;34m\u001b[0m\u001b[0m\n\u001b[0;32m--> 312\u001b[0;31m         \u001b[0;32mraise\u001b[0m \u001b[0mPatsyError\u001b[0m\u001b[0;34m(\u001b[0m\u001b[0;34m\"model is missing required outcome variables\"\u001b[0m\u001b[0;34m)\u001b[0m\u001b[0;34m\u001b[0m\u001b[0;34m\u001b[0m\u001b[0m\n\u001b[0m\u001b[1;32m    313\u001b[0m     \u001b[0;32mreturn\u001b[0m \u001b[0;34m(\u001b[0m\u001b[0mlhs\u001b[0m\u001b[0;34m,\u001b[0m \u001b[0mrhs\u001b[0m\u001b[0;34m)\u001b[0m\u001b[0;34m\u001b[0m\u001b[0;34m\u001b[0m\u001b[0m\n",
      "\u001b[0;31mPatsyError\u001b[0m: model is missing required outcome variables"
     ]
    }
   ],
   "source": [
    "model = smf.ols('income_median_men ~ import_shock_2yr', data=dfg)"
   ]
  },
  {
   "cell_type": "code",
   "execution_count": 36,
   "metadata": {},
   "outputs": [
    {
     "data": {
      "text/plain": [
       "Intercept           28022.219603\n",
       "import_shock_2yr       -0.094238\n",
       "dtype: float64"
      ]
     },
     "execution_count": 36,
     "metadata": {},
     "output_type": "execute_result"
    }
   ],
   "source": [
    "model.params"
   ]
  },
  {
   "cell_type": "code",
   "execution_count": 57,
   "metadata": {},
   "outputs": [
    {
     "data": {
      "text/html": [
       "<table class=\"simpletable\">\n",
       "<caption>OLS Regression Results</caption>\n",
       "<tr>\n",
       "  <th>Dep. Variable:</th>    <td>income_median_men</td> <th>  R-squared:         </th> <td>   0.003</td> \n",
       "</tr>\n",
       "<tr>\n",
       "  <th>Model:</th>                   <td>OLS</td>        <th>  Adj. R-squared:    </th> <td>   0.002</td> \n",
       "</tr>\n",
       "<tr>\n",
       "  <th>Method:</th>             <td>Least Squares</td>   <th>  F-statistic:       </th> <td>   6.058</td> \n",
       "</tr>\n",
       "<tr>\n",
       "  <th>Date:</th>             <td>Fri, 27 Aug 2021</td>  <th>  Prob (F-statistic):</th>  <td>0.0139</td>  \n",
       "</tr>\n",
       "<tr>\n",
       "  <th>Time:</th>                 <td>16:19:14</td>      <th>  Log-Likelihood:    </th> <td> -22571.</td> \n",
       "</tr>\n",
       "<tr>\n",
       "  <th>No. Observations:</th>      <td>  2384</td>       <th>  AIC:               </th> <td>4.515e+04</td>\n",
       "</tr>\n",
       "<tr>\n",
       "  <th>Df Residuals:</th>          <td>  2382</td>       <th>  BIC:               </th> <td>4.516e+04</td>\n",
       "</tr>\n",
       "<tr>\n",
       "  <th>Df Model:</th>              <td>     1</td>       <th>                     </th>     <td> </td>    \n",
       "</tr>\n",
       "<tr>\n",
       "  <th>Covariance Type:</th>      <td>nonrobust</td>     <th>                     </th>     <td> </td>    \n",
       "</tr>\n",
       "</table>\n",
       "<table class=\"simpletable\">\n",
       "<tr>\n",
       "          <td></td>            <th>coef</th>     <th>std err</th>      <th>t</th>      <th>P>|t|</th>  <th>[0.025</th>    <th>0.975]</th>  \n",
       "</tr>\n",
       "<tr>\n",
       "  <th>Intercept</th>        <td> 2.802e+04</td> <td>   99.738</td> <td>  280.959</td> <td> 0.000</td> <td> 2.78e+04</td> <td> 2.82e+04</td>\n",
       "</tr>\n",
       "<tr>\n",
       "  <th>import_shock_2yr</th> <td>   -0.0942</td> <td>    0.038</td> <td>   -2.461</td> <td> 0.014</td> <td>   -0.169</td> <td>   -0.019</td>\n",
       "</tr>\n",
       "</table>\n",
       "<table class=\"simpletable\">\n",
       "<tr>\n",
       "  <th>Omnibus:</th>       <td>174.313</td> <th>  Durbin-Watson:     </th> <td>   0.523</td>\n",
       "</tr>\n",
       "<tr>\n",
       "  <th>Prob(Omnibus):</th> <td> 0.000</td>  <th>  Jarque-Bera (JB):  </th> <td> 231.417</td>\n",
       "</tr>\n",
       "<tr>\n",
       "  <th>Skew:</th>          <td> 0.635</td>  <th>  Prob(JB):          </th> <td>5.60e-51</td>\n",
       "</tr>\n",
       "<tr>\n",
       "  <th>Kurtosis:</th>      <td> 3.846</td>  <th>  Cond. No.          </th> <td>4.05e+03</td>\n",
       "</tr>\n",
       "</table><br/><br/>Notes:<br/>[1] Standard Errors assume that the covariance matrix of the errors is correctly specified.<br/>[2] The condition number is large, 4.05e+03. This might indicate that there are<br/>strong multicollinearity or other numerical problems."
      ],
      "text/plain": [
       "<class 'statsmodels.iolib.summary.Summary'>\n",
       "\"\"\"\n",
       "                            OLS Regression Results                            \n",
       "==============================================================================\n",
       "Dep. Variable:      income_median_men   R-squared:                       0.003\n",
       "Model:                            OLS   Adj. R-squared:                  0.002\n",
       "Method:                 Least Squares   F-statistic:                     6.058\n",
       "Date:                Fri, 27 Aug 2021   Prob (F-statistic):             0.0139\n",
       "Time:                        16:19:14   Log-Likelihood:                -22571.\n",
       "No. Observations:                2384   AIC:                         4.515e+04\n",
       "Df Residuals:                    2382   BIC:                         4.516e+04\n",
       "Df Model:                           1                                         \n",
       "Covariance Type:            nonrobust                                         \n",
       "====================================================================================\n",
       "                       coef    std err          t      P>|t|      [0.025      0.975]\n",
       "------------------------------------------------------------------------------------\n",
       "Intercept         2.802e+04     99.738    280.959      0.000    2.78e+04    2.82e+04\n",
       "import_shock_2yr    -0.0942      0.038     -2.461      0.014      -0.169      -0.019\n",
       "==============================================================================\n",
       "Omnibus:                      174.313   Durbin-Watson:                   0.523\n",
       "Prob(Omnibus):                  0.000   Jarque-Bera (JB):              231.417\n",
       "Skew:                           0.635   Prob(JB):                     5.60e-51\n",
       "Kurtosis:                       3.846   Cond. No.                     4.05e+03\n",
       "==============================================================================\n",
       "\n",
       "Notes:\n",
       "[1] Standard Errors assume that the covariance matrix of the errors is correctly specified.\n",
       "[2] The condition number is large, 4.05e+03. This might indicate that there are\n",
       "strong multicollinearity or other numerical problems.\n",
       "\"\"\""
      ]
     },
     "execution_count": 57,
     "metadata": {},
     "output_type": "execute_result"
    }
   ],
   "source": [
    "model.summary()"
   ]
  },
  {
   "cell_type": "code",
   "execution_count": 53,
   "metadata": {},
   "outputs": [],
   "source": [
    "# Only rows where import shock and median not missing\n",
    "dfg1 = dfg[(dfg.import_shock_2yr.notna()) & (dfg.income_median_men.notna())]"
   ]
  },
  {
   "cell_type": "code",
   "execution_count": 56,
   "metadata": {},
   "outputs": [
    {
     "data": {
      "image/png": "[encoded data removed]",
      "text/plain": [
       "<Figure size 864x432 with 1 Axes>"
      ]
     },
     "metadata": {
      "needs_background": "light"
     },
     "output_type": "display_data"
    }
   ],
   "source": [
    "income_pred = model.predict()\n",
    "\n",
    "# Plot regression against actual data\n",
    "plt.figure(figsize=(12, 6))\n",
    "plt.plot(dfg1['import_shock_2yr'], dfg1['income_median_men'], 'o')           # scatter plot showing actual data\n",
    "plt.plot(dfg1.import_shock_2yr, income_pred, 'r', linewidth=2)   # regression line\n",
    "plt.xlabel('Import Shock 2 years')\n",
    "plt.ylabel('Median Income Men')\n",
    "plt.title('Import Shock vs Income Men')\n",
    "\n",
    "plt.show()"
   ]
  }
 ],
 "metadata": {
  "kernelspec": {
   "display_name": "Python 3",
   "language": "python",
   "name": "python3"
  },
  "language_info": {
   "codemirror_mode": {
    "name": "ipython",
    "version": 3
   },
   "file_extension": ".py",
   "mimetype": "text/x-python",
   "name": "python",
   "nbconvert_exporter": "python",
   "pygments_lexer": "ipython3",
   "version": "3.8.10"
  }
 },
 "nbformat": 4,
 "nbformat_minor": 4
}
