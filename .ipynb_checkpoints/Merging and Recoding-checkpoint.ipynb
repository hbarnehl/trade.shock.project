{
 "cells": [
  {
   "cell_type": "markdown",
   "metadata": {},
   "source": [
    "# Merging and Recoding"
   ]
  },
  {
   "cell_type": "code",
   "execution_count": 73,
   "metadata": {},
   "outputs": [],
   "source": [
    "import pandas as pd\n",
    "import numpy as np\n",
    "import re\n",
    "from glob import glob\n",
    "import os\n",
    "import requests\n"
   ]
  },
  {
   "cell_type": "code",
   "execution_count": 74,
   "metadata": {},
   "outputs": [],
   "source": [
    "directory = \"/home/hennes/Project with Seiki/\""
   ]
  },
  {
   "cell_type": "code",
   "execution_count": 75,
   "metadata": {},
   "outputs": [],
   "source": [
    "df = pd.read_csv('Population.csv')"
   ]
  },
  {
   "cell_type": "code",
   "execution_count": 76,
   "metadata": {},
   "outputs": [],
   "source": [
    "for file in glob(directory+'*'):\n",
    "    if (file.startswith(directory+'final')):\n",
    "        os.remove(file)"
   ]
  },
  {
   "cell_type": "code",
   "execution_count": 77,
   "metadata": {},
   "outputs": [],
   "source": [
    "# first, delete if already there\n",
    "for file in glob(directory+'*'):\n",
    "    if (file.startswith(directory+'final')):\n",
    "        os.remove(file)\n",
    "\n",
    "# then, create new\n",
    "overlook = ('Population.csv', 'gemeente.csv', 'dataset_nuts3.csv', 'dataset_nuts2.csv')\n",
    "for file in glob(directory+'*'):\n",
    "    if file.endswith('.csv'):\n",
    "        if file.endswith(overlook):\n",
    "            continue\n",
    "        else:\n",
    "            data = pd.read_csv(file)\n",
    "            df = df.merge(data, how='left', on=['RegioS', 'Perioden'])"
   ]
  },
  {
   "cell_type": "code",
   "execution_count": 78,
   "metadata": {},
   "outputs": [],
   "source": [
    "# renaming columns\n",
    "r = {'Mannen en vrouwen_BevolkingOp1Januari_1':'total_population',\n",
    "    'Mannen_BevolkingOp1Januari_1':'total_male_population',\n",
    "    'Vrouwen_BevolkingOp1Januari_1':'total_female_population',\n",
    "    '1 Vermogensmisdrijven_GeregistreerdeMisdrijvenPer1000Inw_3':'crimes_property_per_1000_pop',\n",
    "    '2 Vernielingen,misdropenborde/gezag_GeregistreerdeMisdrijvenPer1000Inw_3':'crimes_vandalism_per_1000_pop',\n",
    "    '3 Gewelds- en seksuele misdrijven_GeregistreerdeMisdrijvenPer1000Inw_3':'crimes_violent_and_sexual_per_1000_pop',\n",
    "    '4 Misdrijven WvSr (overig)_GeregistreerdeMisdrijvenPer1000Inw_3':'crimes_WvSr_other_per_1000_pop',\n",
    "    '5 Verkeersmisdrijven_GeregistreerdeMisdrijvenPer1000Inw_3':'crimes_traffic_per_1000_pop',\n",
    "    '6 Drugsmisdrijven_GeregistreerdeMisdrijvenPer1000Inw_3':'crimes_drugs_per_1000_pop',\n",
    "    '7 Vuurwapenmisdrijven_GeregistreerdeMisdrijvenPer1000Inw_3':'crimes_weapons_per_1000_pop',\n",
    "    '9 Misdrijven overige wetten_GeregistreerdeMisdrijvenPer1000Inw_3':'crimes_other_per_1000_pop',\n",
    "    'Totaal mannen en vrouwen_GemiddeldGestandaardiseerdInkomen_4':'income_mean_total',\n",
    "    'Totaal mannen en vrouwen_MediaanGestandaardiseerdInkomen_5':'income_median_total',\n",
    "    'Mannen_GemiddeldGestandaardiseerdInkomen_4':'income_mean_men',\n",
    "    'Mannen_MediaanGestandaardiseerdInkomen_5':'income_median_men',\n",
    "    'Vrouwen_GemiddeldGestandaardiseerdInkomen_4':'income_mean_women',\n",
    "    'Vrouwen_MediaanGestandaardiseerdInkomen_5':'income_median_women',\n",
    "    'Totaal personen_Werkloosheidspercentage_13':'unemployment_rate_total',\n",
    "    'Geslacht: mannen_Werkloosheidspercentage_13':'unemployment_rate_men',\n",
    "    'Geslacht: vrouwen_Werkloosheidspercentage_13':'unemployment_rate_women',\n",
    "    'Totaal goederen_Invoerwaarde_1':'chinese_import_value_total',\n",
    "    'Mannen_Met migratieachtergrond_BevolkingOp1Januari_1':'migration_pop_all_men',\n",
    "    'Mannen_Europese Unie (excl. Nederlandse acht..._BevolkingOp1Januari_1':'migration_pop_EU_men',\n",
    "    'Mannen_Westerse migratieachtergrond_BevolkingOp1Januari_1':'migration_pop_western_men',\n",
    "    'Mannen_Niet-westerse migratieachtergrond_BevolkingOp1Januari_1':'migration_pop_non-western_men',\n",
    "    'Vrouwen_Met migratieachtergrond_BevolkingOp1Januari_1':'migration_pop_all_women',\n",
    "    'Vrouwen_Europese Unie (excl. Nederlandse acht..._BevolkingOp1Januari_1':'migration_pop_EU_women',\n",
    "    'Vrouwen_Westerse migratieachtergrond_BevolkingOp1Januari_1':'migration_pop_western_women',\n",
    "    'Vrouwen_Niet-westerse migratieachtergrond_BevolkingOp1Januari_1':'migration_pop_non-western_women',\n",
    "    'Totaal mannen en vrouwen_Totaal niet-Nederlandse nationaliteit_MigratiesaldoInclusiefAdministratie_3':'migration_change_all',\n",
    "    'Totaal mannen en vrouwen_Europese Unie (exclusief Nederlands)_MigratiesaldoInclusiefAdministratie_3':'migration_change_EU_all',\n",
    "    'Totaal mannen en vrouwen_Westerse nationaliteiten ex. Nederlands_MigratiesaldoInclusiefAdministratie_3':'migration_change_western_all',\n",
    "    'Totaal mannen en vrouwen_Niet-westerse nationaliteiten_MigratiesaldoInclusiefAdministratie_3':'migration_change_non-western_all',\n",
    "    'Mannen_Totaal niet-Nederlandse nationaliteit_MigratiesaldoInclusiefAdministratie_3':'migration_change_all_men',\n",
    "    'Mannen_Europese Unie (exclusief Nederlands)_MigratiesaldoInclusiefAdministratie_3':'migration_change_EU_men',\n",
    "    'Mannen_Westerse nationaliteiten ex. Nederlands_MigratiesaldoInclusiefAdministratie_3':'migration_change_western_male_migrants',\n",
    "    'Mannen_Niet-westerse nationaliteiten_MigratiesaldoInclusiefAdministratie_3':'migration_change_non-western_men',\n",
    "    'Vrouwen_Totaal niet-Nederlandse nationaliteit_MigratiesaldoInclusiefAdministratie_3':'migration_change_all_women',\n",
    "    'Vrouwen_Europese Unie (exclusief Nederlands)_MigratiesaldoInclusiefAdministratie_3':'migration_change_EU_women',\n",
    "    'Vrouwen_Westerse nationaliteiten ex. Nederlands_MigratiesaldoInclusiefAdministratie_3':'migration_change_western_women',\n",
    "    'Vrouwen_Niet-westerse nationaliteiten_MigratiesaldoInclusiefAdministratie_3':'migration_change_non-western_women',\n",
    "    'LevendGeborenKinderenRelatief_2':'born_children_per_1000_pop',\n",
    "    'TotaalHuwelijkssluitingen_1':'marriages_total',\n",
    "    'HuwendeMannenRelatief_7':'marriages_men_per_1000_pop',\n",
    "    'HuwendeVrouwenRelatief_9':'marriages_women_per_1000_pop'}\n",
    "\n",
    "df = df.rename(columns=r)"
   ]
  },
  {
   "cell_type": "code",
   "execution_count": 79,
   "metadata": {
    "scrolled": true
   },
   "outputs": [],
   "source": [
    "# Dropping unneeded columns\n",
    "df.drop([col for col in df.columns.tolist() if col.startswith('Unnamed')], axis='columns', inplace=True)\n",
    "df.drop(['Persoonskenmerken'], axis='columns', inplace=True)"
   ]
  },
  {
   "cell_type": "code",
   "execution_count": 80,
   "metadata": {
    "scrolled": false
   },
   "outputs": [],
   "source": [
    "df['Perioden'] = df['Perioden'].astype(int)\n",
    "df = df[(df['Perioden']>1988)]\n",
    "df = df[df.total_population.notnull()]\n",
    "df.to_csv('final_dataset.csv', index=False)"
   ]
  }
 ],
 "metadata": {
  "kernelspec": {
   "display_name": "Python 3",
   "language": "python",
   "name": "python3"
  },
  "language_info": {
   "codemirror_mode": {
    "name": "ipython",
    "version": 3
   },
   "file_extension": ".py",
   "mimetype": "text/x-python",
   "name": "python",
   "nbconvert_exporter": "python",
   "pygments_lexer": "ipython3",
   "version": "3.8.10"
  }
 },
 "nbformat": 4,
 "nbformat_minor": 4
}
