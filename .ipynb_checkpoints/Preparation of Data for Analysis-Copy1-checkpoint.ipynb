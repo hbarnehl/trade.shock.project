{
 "cells": [
  {
   "cell_type": "markdown",
   "metadata": {},
   "source": [
    "# Preparation of Data for Analysis"
   ]
  },
  {
   "cell_type": "code",
   "execution_count": 29,
   "metadata": {},
   "outputs": [],
   "source": [
    "import pandas as pd\n",
    "import re\n",
    "from glob import glob\n",
    "import numpy as np\n",
    "import os\n",
    "import statsmodels as sm\n",
    "import concurrent # for parallel instances"
   ]
  },
  {
   "cell_type": "code",
   "execution_count": 30,
   "metadata": {
    "scrolled": true
   },
   "outputs": [],
   "source": [
    "# Importing dataset\n",
    "df = pd.read_csv('final_dataset.csv')"
   ]
  },
  {
   "cell_type": "markdown",
   "metadata": {},
   "source": [
    "## Data Preparation"
   ]
  },
  {
   "cell_type": "markdown",
   "metadata": {},
   "source": [
    "### Preliminary Stuff"
   ]
  },
  {
   "cell_type": "code",
   "execution_count": 31,
   "metadata": {
    "scrolled": false
   },
   "outputs": [],
   "source": [
    "# multiplying income data by 1000 to get actual number\n",
    "cols = [col for col in df.columns if re.match(r'(income)', col)]\n",
    "for col in cols:\n",
    "    df[col] = df[col]*1000"
   ]
  },
  {
   "cell_type": "code",
   "execution_count": 32,
   "metadata": {},
   "outputs": [],
   "source": [
    "# generating total migration population data\n",
    "df[\"migration_pop_all_total\"] = df.migration_pop_all_men + df.migration_pop_all_women\n",
    "\n",
    "df[\"migration_pop_EU_total\"] = df.migration_pop_EU_men + df.migration_pop_EU_women\n",
    "\n",
    "df[\"migration_pop_western_total\"] = df.migration_pop_western_men + df.migration_pop_western_women\n",
    "\n",
    "df[\"migration_pop_non-western_total\"] = df[\"migration_pop_non-western_men\"] + df[\"migration_pop_non-western_women\"]\n"
   ]
  },
  {
   "cell_type": "code",
   "execution_count": 33,
   "metadata": {},
   "outputs": [],
   "source": [
    "# converting total migration to relative migration number (per 100 pop)\n",
    "cols = [col for col in df.columns if re.match('migration', col)]\n",
    "for col in cols:\n",
    "    df[col] = df[col]/(df[\"total_population\"]/100)"
   ]
  },
  {
   "cell_type": "code",
   "execution_count": 34,
   "metadata": {},
   "outputs": [],
   "source": [
    "# interpolating election data\n",
    "cols = ['CDA',\n",
    " 'PvdA',\n",
    " 'VVD',\n",
    " 'D66',\n",
    " 'GL',\n",
    " 'SGP',\n",
    " 'Gereformeerd Politiek Verbond (GPV)',\n",
    " 'Reformatorische Politieke Federatie (RPF)',\n",
    " 'SP (Socialistische Partij)',\n",
    " 'VCN: partij van communisten in Nederland',\n",
    " 'turnout',\n",
    " 'Nieuwe Communistische Partij',\n",
    " 'PVV (Partij voor de Vrijheid)',\n",
    " 'ChristenUnie',\n",
    " 'Partij voor de Dieren',\n",
    " '50PLUS',\n",
    " 'DENK',\n",
    " 'Forum voor Democratie',\n",
    " 'Lijst Pim Fortuyn',\n",
    " 'Algemeen Ouderen Verbond (AOV)',\n",
    " 'Centrumdemocraten',\n",
    " 'Ouderen Unie 55+',\n",
    " 'Volt',\n",
    " 'JA21',\n",
    " 'BBB',\n",
    " 'BIJ1',\n",
    " 'U-Buntu Connected Front']\n",
    "\n",
    "df[cols] = df.groupby('RegioS')[cols].apply(lambda x: x.interpolate(method='pad', limit_direction='forward')) \n",
    "\n",
    "# Turning nan into 0\n",
    "df[cols] = df[cols].fillna(0)"
   ]
  },
  {
   "cell_type": "markdown",
   "metadata": {},
   "source": [
    "## Creating NUTS 3 vote shares"
   ]
  },
  {
   "cell_type": "code",
   "execution_count": 35,
   "metadata": {},
   "outputs": [],
   "source": [
    "# Editing the nuts3 values to fit the RegioS values\n",
    "\n",
    "df['nuts3'] = df['nuts3'].str.replace(' ', '')\n",
    "replace_dict= {'HetGooienVechtstreek':'Het Gooi en Vechtstreek',\n",
    "              \"Agglomeratie's-Gravenhage\": \"Agglomeratie 's-Gravenhage\",\n",
    "              'DelftenWestland': 'Delft en Westland',\n",
    "              'Alkmaarenomgeving': 'Alkmaar en omgeving',\n",
    "              'AgglomeratieLeidenenBollenstreek': 'Agglomeratie Leiden en Bollenstreek',\n",
    "              'KopvanNoord-Holland': 'Kop van Noord-Holland',\n",
    "              'Delfzijlenomgeving': 'Delfzijl en omgeving',\n",
    "              'OverigZeeland': 'Overig Zeeland',\n",
    "              'OverigGroningen': 'Overig Groningen',\n",
    "              'AgglomeratieHaarlem': 'Agglomeratie Haarlem'}\n",
    "df['nuts3'] = df['nuts3'].replace(to_replace=replace_dict,value=None)\n",
    "df['nuts3'] = df['nuts3']+' (CR)'"
   ]
  },
  {
   "cell_type": "code",
   "execution_count": 36,
   "metadata": {},
   "outputs": [],
   "source": [
    "# Create dict with format nuts3 regions: gemeentes\n",
    "nuts3_dict = {}\n",
    "for year in df.Perioden.unique().tolist():\n",
    "    if year > 1995:\n",
    "        nuts3_dict[year] = [{'nuts3':x, 'gemeente': df[(df['Perioden']==year)\n",
    "                                   & (df['nuts3'] == x)]['RegioS'].tolist()}\n",
    "                            for x in df.nuts3.dropna().unique().tolist()]"
   ]
  },
  {
   "cell_type": "code",
   "execution_count": null,
   "metadata": {},
   "outputs": [],
   "source": [
    "# create the appropriate vote shares for Corop regions\n",
    "nuts3vote = {}\n",
    "for col in cols:\n",
    "    nuts3vote[col] = [{year:[({'region': region,\n",
    "                       'voteshare':\n",
    "                       sum([(df[(df['RegioS'] == x) &\n",
    "                                (df['Perioden'] == year)][col].tolist()[0] *\n",
    "                             df[(df['RegioS'] == x) &\n",
    "                                (df['Perioden'] == year)]['total_population'].tolist()[0])\n",
    "                            for x in\n",
    "                            [y['gemeente'] for y in nuts3_dict[year]\n",
    "                             if y['nuts3'] == region][0]])/\n",
    "                       df[(df['RegioS'] == region) &\n",
    "                          (df['Perioden'] == year)]['total_population'].tolist()[0]})\n",
    "                    for region in df.nuts3.dropna().unique().tolist()]} for year in nuts3_dict.keys()]\n",
    "        "
   ]
  },
  {
   "cell_type": "code",
   "execution_count": 453,
   "metadata": {},
   "outputs": [],
   "source": [
    "# save nuts3vote \n",
    "import json \n",
    "with open('nuts3vote.json', 'w') as fp:\n",
    "    json.dump(nuts3vote, fp)"
   ]
  },
  {
   "cell_type": "code",
   "execution_count": 9,
   "metadata": {},
   "outputs": [],
   "source": [
    "# load nuts3vote\n",
    "import json\n",
    "with open('nuts3vote.json', 'r') as f:\n",
    "    nuts3vote = json.load(f)"
   ]
  },
  {
   "cell_type": "code",
   "execution_count": 10,
   "metadata": {},
   "outputs": [],
   "source": [
    "# Mapping results onto dataframe\n",
    "\n",
    "for party, values in nuts3vote.items():\n",
    "    for x in values:\n",
    "        for year, z in x.items():\n",
    "            for a in z:\n",
    "                df.loc[(df.RegioS == a['region']) & (df.Perioden == int(year)), [party]] = a['voteshare']"
   ]
  },
  {
   "cell_type": "markdown",
   "metadata": {},
   "source": [
    "## Creating NUTS 3 vote shares"
   ]
  },
  {
   "cell_type": "code",
   "execution_count": 7,
   "metadata": {},
   "outputs": [],
   "source": [
    "# Editing the nuts2 values to fit the RegioS values\n",
    "\n",
    "df['nuts2'] = df['nuts2'].str.replace(' ', '')\n",
    "replace_dict= {'HetGooienVechtstreek':'Het Gooi en Vechtstreek',\n",
    "              \"Agglomeratie's-Gravenhage\": \"Agglomeratie 's-Gravenhage\",\n",
    "              'DelftenWestland': 'Delft en Westland',\n",
    "              'Alkmaarenomgeving': 'Alkmaar en omgeving',\n",
    "              'AgglomeratieLeidenenBollenstreek': 'Agglomeratie Leiden en Bollenstreek',\n",
    "              'KopvanNoord-Holland': 'Kop van Noord-Holland',\n",
    "              'Delfzijlenomgeving': 'Delfzijl en omgeving',\n",
    "              'OverigZeeland': 'Overig Zeeland',\n",
    "              'OverigGroningen': 'Overig Groningen',\n",
    "              'AgglomeratieHaarlem': 'Agglomeratie Haarlem'}\n",
    "df['nuts2'] = df['nuts2'].replace(to_replace=replace_dict,value=None)\n",
    "df['nuts2'] = df['nuts2']+' (CR)'"
   ]
  },
  {
   "cell_type": "code",
   "execution_count": 8,
   "metadata": {},
   "outputs": [],
   "source": [
    "# Create dict with format nuts2 regions: gemeentes\n",
    "nuts2_dict = {}\n",
    "for year in df.Perioden.unique().tolist():\n",
    "    if year > 1995:\n",
    "        nuts2_dict[year] = [{'nuts2':x, 'gemeente': df[(df['Perioden']==year)\n",
    "                                   & (df['nuts2'] == x)]['RegioS'].tolist()}\n",
    "                            for x in df.nuts2.dropna().unique().tolist()]"
   ]
  },
  {
   "cell_type": "code",
   "execution_count": 426,
   "metadata": {},
   "outputs": [],
   "source": [
    "# create the appropriate vote shares for Corop regions\n",
    "nuts2vote = {}\n",
    "for col in cols:\n",
    "    nuts2vote[col] = [{year:[({'region': region,\n",
    "                       'voteshare':\n",
    "                       sum([(df[(df['RegioS'] == x) &\n",
    "                                (df['Perioden'] == year)][col].tolist()[0] *\n",
    "                             df[(df['RegioS'] == x) &\n",
    "                                (df['Perioden'] == year)]['total_population'].tolist()[0])\n",
    "                            for x in\n",
    "                            [y['gemeente'] for y in nuts2_dict[year]\n",
    "                             if y['nuts2'] == region][0]])/\n",
    "                       df[(df['RegioS'] == region) &\n",
    "                          (df['Perioden'] == year)]['total_population'].tolist()[0]})\n",
    "                    for region in df.nuts2.dropna().unique().tolist()]} for year in nuts2_dict.keys()]\n",
    "        "
   ]
  },
  {
   "cell_type": "code",
   "execution_count": 453,
   "metadata": {},
   "outputs": [],
   "source": [
    "# save nuts2vote \n",
    "import json \n",
    "with open('nuts2vote.json', 'w') as fp:\n",
    "    json.dump(nuts2vote, fp)"
   ]
  },
  {
   "cell_type": "code",
   "execution_count": 9,
   "metadata": {},
   "outputs": [],
   "source": [
    "# load nuts2vote\n",
    "import json\n",
    "with open('nuts2vote.json', 'r') as f:\n",
    "    nuts2vote = json.load(f)"
   ]
  },
  {
   "cell_type": "code",
   "execution_count": 10,
   "metadata": {},
   "outputs": [],
   "source": [
    "# Mapping results onto dataframe\n",
    "\n",
    "for party, values in nuts2vote.items():\n",
    "    for x in values:\n",
    "        for year, z in x.items():\n",
    "            for a in z:\n",
    "                df.loc[(df.RegioS == a['region']) & (df.Perioden == int(year)), [party]] = a['voteshare']"
   ]
  },
  {
   "cell_type": "markdown",
   "metadata": {},
   "source": [
    "## Creating NUTS2 Crime Rates"
   ]
  },
  {
   "cell_type": "code",
   "execution_count": 70,
   "metadata": {},
   "outputs": [],
   "source": [
    "# interpolating election data\n",
    "cols = ['crimes_property_per_1000_pop',\n",
    " 'crimes_vandalism_per_1000_pop',\n",
    " 'crimes_violent_and_sexual_per_1000_pop',\n",
    " 'crimes_WvSr_other_per_1000_pop',\n",
    " 'crimes_traffic_per_1000_pop',\n",
    " 'crimes_drugs_per_1000_pop',\n",
    " 'crimes_weapons_per_1000_pop',\n",
    " 'crimes_other_per_1000_pop']\n",
    "\n",
    "# Turning nan into 0\n",
    "df[cols] = df[cols].fillna(0)"
   ]
  },
  {
   "cell_type": "code",
   "execution_count": 73,
   "metadata": {},
   "outputs": [],
   "source": [
    "# create the appropriate crime rate variables for Corop regions\n",
    "nuts2crime = {}\n",
    "for col in cols:\n",
    "    nuts2crime[col] = [{year:[({'region': region,\n",
    "                       'crime':\n",
    "                       sum([(df[(df['RegioS'] == x) &\n",
    "                                (df['Perioden'] == year)][col].tolist()[0] *\n",
    "                             df[(df['RegioS'] == x) &\n",
    "                                (df['Perioden'] == year)]['total_population'].tolist()[0])\n",
    "                            for x in\n",
    "                            [y['gemeente'] for y in nuts2_dict[year]\n",
    "                             if y['nuts2'] == region][0]])/\n",
    "                       df[(df['RegioS'] == region) &\n",
    "                          (df['Perioden'] == year)]['total_population'].tolist()[0]})\n",
    "                    for region in df.nuts2.dropna().unique().tolist()]} for year in nuts2_dict.keys()]\n",
    "        "
   ]
  },
  {
   "cell_type": "code",
   "execution_count": 74,
   "metadata": {},
   "outputs": [],
   "source": [
    "# save nuts2vote \n",
    "import json \n",
    "with open('nuts2crime.json', 'w') as fp:\n",
    "    json.dump(nuts2crime, fp)"
   ]
  },
  {
   "cell_type": "code",
   "execution_count": 11,
   "metadata": {},
   "outputs": [],
   "source": [
    "# load nuts2vote\n",
    "import json\n",
    "with open('nuts2crime.json', 'r') as f:\n",
    "    nuts2crime = json.load(f)"
   ]
  },
  {
   "cell_type": "code",
   "execution_count": 12,
   "metadata": {},
   "outputs": [],
   "source": [
    "# Mapping results onto dataframe\n",
    "for crimekind, values in nuts2crime.items():\n",
    "    for x in values:\n",
    "        for year, z in x.items():\n",
    "            for a in z:\n",
    "                df.loc[(df.RegioS == a['region']) & (df.Perioden == int(year)), [crimekind]] = a['crime']"
   ]
  },
  {
   "cell_type": "markdown",
   "metadata": {},
   "source": [
    "### Create Crude Import Shock Variable"
   ]
  },
  {
   "cell_type": "markdown",
   "metadata": {},
   "source": [
    "Preliminary: group import columns according to old grouping"
   ]
  },
  {
   "cell_type": "code",
   "execution_count": 13,
   "metadata": {},
   "outputs": [],
   "source": [
    "df['imports_food, beverages, tobacco'] = df.import_food_products + df.import_beverages + df.import_tobacco_products\n",
    "\n",
    "df['imports_textile, clothes, leather'] = df.import_textiles + df.import_wearing_apparel + df['import_leather_and_leather-related_products']\n",
    "\n",
    "df['imports_paper, carton'] = df.import_paper_and_related_products\n",
    "\n",
    "df['imports_printing, recorded media'] = df.import_printing_and_recorded_media\n",
    "\n",
    "df['imports_coke_and_refined_petrolium'] = df.import_coke_and_refined_petrolium\n",
    "\n",
    "df['imports_chemicals, chemical products, non-metallic products'] = df.import_chemicals_and_chemical_products + df.import_basic_pharmaceutical_products_and_preparations + df.import_rubber_and_plastic_products\n",
    "\n",
    "df['imports_basic_metals'] = df.import_basic_metals\n",
    "\n",
    "df['imports_metal_products,_machinery_and_equipment'] = df.import_fabricated_metal_products + df.import_machinery_and_equipment\n",
    "\n",
    "df['imports_electronic_products'] = df.import_computer_electronic_and_optical_products + df.import_electrical_equipment\n",
    "\n",
    "df['imports_transport_vehicles'] = df['import_motor_vehicles_trailers_and_semi-trailers'] + df.import_other_transport_equipment\n",
    "\n",
    "df['imports_other industrial products'] = df.import_wood_and_wood_products + df['import_other_non-metallic_products'] + df.import_furniture + df.import_other\n",
    "\n",
    "# Drop old import columns\n",
    "idx = df.columns[df.columns.str.startswith('import_')].tolist()\n",
    "df.drop(columns=idx, inplace = True)"
   ]
  },
  {
   "cell_type": "markdown",
   "metadata": {},
   "source": [
    "First, sum all imports and copy values into Gemeente data"
   ]
  },
  {
   "cell_type": "code",
   "execution_count": 14,
   "metadata": {},
   "outputs": [],
   "source": [
    "# Create list of import columns\n",
    "idx = df.columns[df.columns.str.startswith('imports')].tolist()"
   ]
  },
  {
   "cell_type": "code",
   "execution_count": 15,
   "metadata": {},
   "outputs": [],
   "source": [
    "# Map national import values on all years of individual regions\n",
    "\n",
    "df1 = df[df['RegioS']=='Nederland'].set_index('Perioden')\n",
    "for x in idx:\n",
    "    import_dict = df1[x].to_dict()\n",
    "    df[x] = df.Perioden.map(import_dict)"
   ]
  },
  {
   "cell_type": "markdown",
   "metadata": {},
   "source": [
    "Second, create manufacturing weight variable (ratio of manufacturing workers to total workers) "
   ]
  },
  {
   "cell_type": "code",
   "execution_count": 16,
   "metadata": {
    "scrolled": true
   },
   "outputs": [],
   "source": [
    "# Create list of labour columns except for all_industries\n",
    "idx = df.columns[df.columns.str.startswith('labour') & ~df.columns.str.endswith('all_industries')].tolist()\n",
    "\n",
    "# Create manufacturing weight for each industry\n",
    "for x in idx:\n",
    "    df2 = df.groupby(['RegioS'])[x].first() / df.groupby(['RegioS'])['labour_all_industries'].first() \n",
    "    manu_dict = df2.to_dict() # create dict\n",
    "    df[f\"manufacturing_weight_{x}\"] = df.RegioS.map(manu_dict)"
   ]
  },
  {
   "cell_type": "markdown",
   "metadata": {},
   "source": [
    "Third, create import shock variable (change of chinese import value over two years over number of manufacturing workers in country at beginning of sample period)"
   ]
  },
  {
   "cell_type": "code",
   "execution_count": 17,
   "metadata": {},
   "outputs": [],
   "source": [
    "# create list of the industries\n",
    "idx = df.columns[df.columns.str.startswith('imports')].tolist()\n",
    "idx = [x.replace(\"imports_\", \"\") for x in idx]"
   ]
  },
  {
   "cell_type": "code",
   "execution_count": 18,
   "metadata": {},
   "outputs": [],
   "source": [
    "# create shock variable for each industry with 2, 5 and 10 years (this seems to work)\n",
    "for i in [2, 5, 10]:\n",
    "    for x in idx:\n",
    "        df[f'shocks{i}_{x}'] = (df.groupby('RegioS')[f'imports_{x}'].diff(periods=i) / df[df.RegioS == 'Nederland'].groupby('RegioS')[f'labour_{x}'].first().tolist()[0]) * df[f'manufacturing_weight_labour_{x}']\n",
    "\n",
    "# sum all industry shocks into single chinese import column    \n",
    "for i in [2, 5, 10]:\n",
    "    idx = df.columns[df.columns.str.startswith(f'shocks{i}')].tolist()\n",
    "    df[f'import_shock_{i}yr'] = df[idx].sum(axis=1)\n",
    "\n",
    "# delete the specific industry shock and the weight variables\n",
    "for x in ['shocks', 'manufacturing_weight_']:\n",
    "    idx = df.columns[df.columns.str.startswith(x)].tolist()\n",
    "    df.drop(columns=idx, inplace = True)"
   ]
  },
  {
   "cell_type": "markdown",
   "metadata": {},
   "source": [
    "## Creating Different Dataframe versions"
   ]
  },
  {
   "cell_type": "markdown",
   "metadata": {},
   "source": [
    "### Only Gemeente"
   ]
  },
  {
   "cell_type": "code",
   "execution_count": 19,
   "metadata": {
    "scrolled": true
   },
   "outputs": [
    {
     "name": "stderr",
     "output_type": "stream",
     "text": [
      "/home/hennes/.local/lib/python3.8/site-packages/pandas/core/strings/accessor.py:101: UserWarning: This pattern has match groups. To actually get the groups, use str.extract.\n",
      "  return func(self, *args, **kwargs)\n"
     ]
    }
   ],
   "source": [
    "# Dataframe with only gemeentes\n",
    "dfg = df[~df.RegioS.str.contains(r\"(LD)|(CR)|(PV)|(Nederland)|(CPR)\")]"
   ]
  },
  {
   "cell_type": "code",
   "execution_count": 20,
   "metadata": {
    "scrolled": false
   },
   "outputs": [
    {
     "name": "stdout",
     "output_type": "stream",
     "text": [
      "538\n",
      "467\n",
      "432\n",
      "393\n",
      "355\n"
     ]
    }
   ],
   "source": [
    "# How many gemeentes are there in different years? \n",
    "for year in [1999, 2005, 2010, 2015, 2019]:\n",
    "    print(dfg[dfg['Perioden'] == year].shape[0])"
   ]
  },
  {
   "cell_type": "code",
   "execution_count": 21,
   "metadata": {
    "scrolled": true
   },
   "outputs": [],
   "source": [
    "# Keep only gemeentes with > 28 years\n",
    "dfg = dfg[dfg.groupby(\"RegioS\")['Perioden'].transform('size') > 28]"
   ]
  },
  {
   "cell_type": "code",
   "execution_count": 22,
   "metadata": {},
   "outputs": [
    {
     "data": {
      "text/plain": [
       "array([[<AxesSubplot:title={'center':'Perioden'}>]], dtype=object)"
      ]
     },
     "execution_count": 22,
     "metadata": {},
     "output_type": "execute_result"
    },
    {
     "data": {
      "image/png": "[encoded data removed]",
      "text/plain": [
       "<Figure size 432x288 with 1 Axes>"
      ]
     },
     "metadata": {
      "needs_background": "light"
     },
     "output_type": "display_data"
    }
   ],
   "source": [
    "# How many years do the individual gemeentes cover?\n",
    "dfg[['RegioS', 'Perioden']].groupby('RegioS').agg('count').hist()\n",
    "\n",
    "# There are over 300 gemeentes that persist over the entire timeframe\n",
    "# Those are enough. I would only keep those"
   ]
  },
  {
   "cell_type": "code",
   "execution_count": 23,
   "metadata": {
    "scrolled": false
   },
   "outputs": [
    {
     "data": {
      "text/plain": [
       "307"
      ]
     },
     "execution_count": 23,
     "metadata": {},
     "output_type": "execute_result"
    }
   ],
   "source": [
    "# How many are there?\n",
    "len(dfg.RegioS.unique().tolist())"
   ]
  },
  {
   "cell_type": "code",
   "execution_count": 24,
   "metadata": {
    "scrolled": true
   },
   "outputs": [
    {
     "data": {
      "text/plain": [
       "['RegioS',\n",
       " 'Perioden',\n",
       " 'total_population',\n",
       " 'total_male_population',\n",
       " 'total_female_population',\n",
       " 'nuts2',\n",
       " 'crimes_property_per_1000_pop',\n",
       " 'crimes_vandalism_per_1000_pop',\n",
       " 'crimes_violent_and_sexual_per_1000_pop',\n",
       " 'crimes_WvSr_other_per_1000_pop',\n",
       " 'crimes_traffic_per_1000_pop',\n",
       " 'crimes_drugs_per_1000_pop',\n",
       " 'crimes_weapons_per_1000_pop',\n",
       " 'crimes_other_per_1000_pop',\n",
       " 'labour_all_industries',\n",
       " 'labour_food, beverages, tobacco',\n",
       " 'labour_textile, clothes, leather',\n",
       " 'labour_paper, carton',\n",
       " 'labour_printing, recorded media',\n",
       " 'labour_coke_and_refined_petrolium',\n",
       " 'labour_chemicals, chemical products, non-metallic products',\n",
       " 'labour_basic_metals',\n",
       " 'labour_metal_products,_machinery_and_equipment',\n",
       " 'labour_electronic_products',\n",
       " 'labour_transport_vehicles',\n",
       " 'labour_other industrial products',\n",
       " 'income_mean_total',\n",
       " 'income_median_total',\n",
       " 'income_mean_men',\n",
       " 'income_median_men',\n",
       " 'income_mean_women',\n",
       " 'income_median_women',\n",
       " 'unemployment_rate_total',\n",
       " 'unemployment_rate_men',\n",
       " 'unemployment_rate_women',\n",
       " 'migration_pop_all_men',\n",
       " 'migration_pop_EU_men',\n",
       " 'migration_pop_western_men',\n",
       " 'migration_pop_non-western_men',\n",
       " 'migration_pop_all_women',\n",
       " 'migration_pop_EU_women',\n",
       " 'migration_pop_western_women',\n",
       " 'migration_pop_non-western_women',\n",
       " 'migration_change_all',\n",
       " 'migration_change_EU_all',\n",
       " 'migration_change_western_all',\n",
       " 'migration_change_non-western_all',\n",
       " 'migration_change_all_men',\n",
       " 'migration_change_EU_men',\n",
       " 'migration_change_western_male_migrants',\n",
       " 'migration_change_non-western_men',\n",
       " 'migration_change_all_women',\n",
       " 'migration_change_EU_women',\n",
       " 'migration_change_western_women',\n",
       " 'migration_change_non-western_women',\n",
       " 'born_children_per_1000_pop',\n",
       " 'marriages_total',\n",
       " 'marriages_men_per_1000_pop',\n",
       " 'marriages_women_per_1000_pop',\n",
       " 'CDA',\n",
       " 'PvdA',\n",
       " 'VVD',\n",
       " 'D66',\n",
       " 'GL',\n",
       " 'SGP',\n",
       " 'Gereformeerd Politiek Verbond (GPV)',\n",
       " 'Reformatorische Politieke Federatie (RPF)',\n",
       " 'SP (Socialistische Partij)',\n",
       " 'VCN: partij van communisten in Nederland',\n",
       " 'turnout',\n",
       " 'Nieuwe Communistische Partij',\n",
       " 'PVV (Partij voor de Vrijheid)',\n",
       " 'ChristenUnie',\n",
       " 'Partij voor de Dieren',\n",
       " '50PLUS',\n",
       " 'DENK',\n",
       " 'Forum voor Democratie',\n",
       " 'Lijst Pim Fortuyn',\n",
       " 'Algemeen Ouderen Verbond (AOV)',\n",
       " 'Centrumdemocraten',\n",
       " 'Ouderen Unie 55+',\n",
       " 'Volt',\n",
       " 'JA21',\n",
       " 'BBB',\n",
       " 'BIJ1',\n",
       " 'U-Buntu Connected Front',\n",
       " 'migration_pop_all_total',\n",
       " 'migration_pop_EU_total',\n",
       " 'migration_pop_western_total',\n",
       " 'migration_pop_non-western_total',\n",
       " 'imports_food, beverages, tobacco',\n",
       " 'imports_textile, clothes, leather',\n",
       " 'imports_paper, carton',\n",
       " 'imports_printing, recorded media',\n",
       " 'imports_coke_and_refined_petrolium',\n",
       " 'imports_chemicals, chemical products, non-metallic products',\n",
       " 'imports_basic_metals',\n",
       " 'imports_metal_products,_machinery_and_equipment',\n",
       " 'imports_electronic_products',\n",
       " 'imports_transport_vehicles',\n",
       " 'imports_other industrial products',\n",
       " 'import_shock_2yr',\n",
       " 'import_shock_5yr',\n",
       " 'import_shock_10yr']"
      ]
     },
     "execution_count": 24,
     "metadata": {},
     "output_type": "execute_result"
    }
   ],
   "source": [
    "dfg.columns.tolist()"
   ]
  },
  {
   "cell_type": "code",
   "execution_count": 26,
   "metadata": {},
   "outputs": [],
   "source": [
    "# Save to new dataset\n",
    "dfg.to_csv('dataset_gemeente.csv', index=False)"
   ]
  },
  {
   "cell_type": "markdown",
   "metadata": {},
   "source": [
    "### Only Corop (NUTS 3)"
   ]
  },
  {
   "cell_type": "code",
   "execution_count": 27,
   "metadata": {
    "scrolled": true
   },
   "outputs": [
    {
     "name": "stderr",
     "output_type": "stream",
     "text": [
      "/home/hennes/.local/lib/python3.8/site-packages/pandas/core/strings/accessor.py:101: UserWarning: This pattern has match groups. To actually get the groups, use str.extract.\n",
      "  return func(self, *args, **kwargs)\n"
     ]
    }
   ],
   "source": [
    "# Dataframe with only gemeentes\n",
    "dfc = df[df.RegioS.str.contains(r\"(CR)\")]\n",
    "dfc.to_csv('dataset_nuts3.csv', index=False)"
   ]
  },
  {
   "cell_type": "markdown",
   "metadata": {},
   "source": [
    "### Only Provincies (NUTS 2)"
   ]
  },
  {
   "cell_type": "code",
   "execution_count": 28,
   "metadata": {
    "scrolled": true
   },
   "outputs": [],
   "source": [
    "# Dataframe with only gemeentes\n",
    "dfp = df[df.RegioS.str.contains(r\"(PV)\")]\n",
    "dfp.to_csv('dataset_nuts2.csv', index=False)"
   ]
  }
 ],
 "metadata": {
  "kernelspec": {
   "display_name": "Python 3",
   "language": "python",
   "name": "python3"
  },
  "language_info": {
   "codemirror_mode": {
    "name": "ipython",
    "version": 3
   },
   "file_extension": ".py",
   "mimetype": "text/x-python",
   "name": "python",
   "nbconvert_exporter": "python",
   "pygments_lexer": "ipython3",
   "version": "3.8.10"
  }
 },
 "nbformat": 4,
 "nbformat_minor": 4
}
